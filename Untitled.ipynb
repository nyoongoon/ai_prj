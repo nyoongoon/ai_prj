{
 "cells": [
  {
   "cell_type": "code",
   "execution_count": null,
   "id": "799ca097",
   "metadata": {
    "pycharm": {
     "name": "#%%\n",
     "is_executing": true
    }
   },
   "outputs": [],
   "source": [
    "import pandas as pd\n",
    "\n",
    "corr = pd.read_csv(\"./data/dasanedu/corr.csv\")\n",
    "#corr = corr.drop(['Unnamed: 0'], axis=1)\n",
    "print(corr)\n",
    "\n",
    "corr_melt = pd.melt(corr, id_vars='Unnamed: 0', var_name = 'IDX', value_name='CORR_VAL')\n",
    "\n",
    "\n",
    "\n",
    "\n",
    "col = corr_melt.columns.to_numpy()\n",
    "corr_melt = corr_melt[col[[1,0,2]]]\n",
    "corr_melt.rename(columns = {'Unnamed: 0':'ITEM'},inplace=True)\n",
    "print(corr_melt)\n",
    "\n",
    "corr_melt.to_csv(\"./data/dasanedu/corr_melt.csv\")"
   ]
  },
  {
   "cell_type": "code",
   "execution_count": null,
   "id": "88e97c54",
   "metadata": {
    "pycharm": {
     "name": "#%%\n"
    }
   },
   "outputs": [],
   "source": []
  }
 ],
 "metadata": {
  "kernelspec": {
   "display_name": "Python 3 (ipykernel)",
   "language": "python",
   "name": "python3"
  },
  "language_info": {
   "codemirror_mode": {
    "name": "ipython",
    "version": 3
   },
   "file_extension": ".py",
   "mimetype": "text/x-python",
   "name": "python",
   "nbconvert_exporter": "python",
   "pygments_lexer": "ipython3",
   "version": "3.9.7"
  }
 },
 "nbformat": 4,
 "nbformat_minor": 5
}